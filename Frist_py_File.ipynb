{
 "cells": [
  {
   "cell_type": "code",
   "execution_count": 2,
   "id": "a3c3fb2a",
   "metadata": {},
   "outputs": [
    {
     "name": "stdout",
     "output_type": "stream",
     "text": [
      "c:\\Users\\dshre\\AppData\\Local\\Programs\\Python\\Python313\\python.exe\n"
     ]
    }
   ],
   "source": [
    "import sys\n",
    "print(sys.executable)\n"
   ]
  },
  {
   "cell_type": "code",
   "execution_count": 5,
   "id": "50a9b859",
   "metadata": {},
   "outputs": [
    {
     "name": "stdout",
     "output_type": "stream",
     "text": [
      "['Cover', 'Contents', 'Data Dictionary', 'Sources', 'LCIA Factors of Other GHGs', '2016_Summary_Commodity', '2015_Summary_Commodity', '2014_Summary_Commodity', '2013_Summary_Commodity', '2012_Summary_Commodity', '2011_Summary_Commodity', '2010_Summary_Commodity', '2016_Summary_Industry', '2015_Summary_Industry', '2014_Summary_Industry', '2013_Summary_Industry', '2012_Summary_Industry', '2011_Summary_Industry', '2010_Summary_Industry', '2016_Detail_Commodity', '2015_Detail_Commodity', '2014_Detail_Commodity', '2013_Detail_Commodity', '2012_Detail_Commodity', '2011_Detail_Commodity', '2010_Detail_Commodity', '2016_Detail_Industry', '2015_Detail_Industry', '2014_Detail_Industry', '2013_Detail_Industry', '2012_Detail_Industry', '2011_Detail_Industry', '2010_Detail_Industry', 'Sheet1']\n"
     ]
    }
   ],
   "source": [
    "import pandas as pd\n",
    "\n",
    "# Load the Excel file\n",
    "file_path = \"SupplyChainEmissionFactorsforUSIndustriesCommodities.xlsx\"\n",
    "\n",
    "# If you don't know the sheet name:\n",
    "excel_file = pd.ExcelFile(file_path)\n",
    "print(excel_file.sheet_names)  # shows all available sheet names\n"
   ]
  },
  {
   "cell_type": "code",
   "execution_count": 6,
   "id": "df83888f",
   "metadata": {},
   "outputs": [
    {
     "data": {
      "text/html": [
       "<div>\n",
       "<style scoped>\n",
       "    .dataframe tbody tr th:only-of-type {\n",
       "        vertical-align: middle;\n",
       "    }\n",
       "\n",
       "    .dataframe tbody tr th {\n",
       "        vertical-align: top;\n",
       "    }\n",
       "\n",
       "    .dataframe thead th {\n",
       "        text-align: right;\n",
       "    }\n",
       "</style>\n",
       "<table border=\"1\" class=\"dataframe\">\n",
       "  <thead>\n",
       "    <tr style=\"text-align: right;\">\n",
       "      <th></th>\n",
       "      <th>Commodity Code</th>\n",
       "      <th>Commodity Name</th>\n",
       "      <th>Substance</th>\n",
       "      <th>Unit</th>\n",
       "      <th>Supply Chain Emission Factors without Margins</th>\n",
       "      <th>Margins of Supply Chain Emission Factors</th>\n",
       "      <th>Supply Chain Emission Factors with Margins</th>\n",
       "      <th>Unnamed: 7</th>\n",
       "      <th>DQ ReliabilityScore of Factors without Margins</th>\n",
       "      <th>DQ TemporalCorrelation of Factors without Margins</th>\n",
       "      <th>DQ GeographicalCorrelation of Factors without Margins</th>\n",
       "      <th>DQ TechnologicalCorrelation of Factors without Margins</th>\n",
       "      <th>DQ DataCollection of Factors without Margins</th>\n",
       "    </tr>\n",
       "  </thead>\n",
       "  <tbody>\n",
       "    <tr>\n",
       "      <th>0</th>\n",
       "      <td>111CA</td>\n",
       "      <td>Farms</td>\n",
       "      <td>carbon dioxide</td>\n",
       "      <td>kg/2018 USD, purchaser price</td>\n",
       "      <td>0.467</td>\n",
       "      <td>0.046</td>\n",
       "      <td>0.513</td>\n",
       "      <td>NaN</td>\n",
       "      <td>4</td>\n",
       "      <td>2</td>\n",
       "      <td>1</td>\n",
       "      <td>4</td>\n",
       "      <td>1</td>\n",
       "    </tr>\n",
       "    <tr>\n",
       "      <th>1</th>\n",
       "      <td>111CA</td>\n",
       "      <td>Farms</td>\n",
       "      <td>methane</td>\n",
       "      <td>kg/2018 USD, purchaser price</td>\n",
       "      <td>0.025</td>\n",
       "      <td>0.000</td>\n",
       "      <td>0.026</td>\n",
       "      <td>NaN</td>\n",
       "      <td>3</td>\n",
       "      <td>2</td>\n",
       "      <td>1</td>\n",
       "      <td>1</td>\n",
       "      <td>1</td>\n",
       "    </tr>\n",
       "    <tr>\n",
       "      <th>2</th>\n",
       "      <td>111CA</td>\n",
       "      <td>Farms</td>\n",
       "      <td>nitrous oxide</td>\n",
       "      <td>kg/2018 USD, purchaser price</td>\n",
       "      <td>0.002</td>\n",
       "      <td>0.000</td>\n",
       "      <td>0.002</td>\n",
       "      <td>NaN</td>\n",
       "      <td>4</td>\n",
       "      <td>2</td>\n",
       "      <td>1</td>\n",
       "      <td>4</td>\n",
       "      <td>1</td>\n",
       "    </tr>\n",
       "    <tr>\n",
       "      <th>3</th>\n",
       "      <td>111CA</td>\n",
       "      <td>Farms</td>\n",
       "      <td>other GHGs</td>\n",
       "      <td>kg CO2e/2018 USD, purchaser price</td>\n",
       "      <td>0.004</td>\n",
       "      <td>0.000</td>\n",
       "      <td>0.004</td>\n",
       "      <td>NaN</td>\n",
       "      <td>4</td>\n",
       "      <td>2</td>\n",
       "      <td>1</td>\n",
       "      <td>4</td>\n",
       "      <td>1</td>\n",
       "    </tr>\n",
       "    <tr>\n",
       "      <th>4</th>\n",
       "      <td>113FF</td>\n",
       "      <td>Forestry, fishing, and related activities</td>\n",
       "      <td>carbon dioxide</td>\n",
       "      <td>kg/2018 USD, purchaser price</td>\n",
       "      <td>0.199</td>\n",
       "      <td>0.024</td>\n",
       "      <td>0.223</td>\n",
       "      <td>NaN</td>\n",
       "      <td>4</td>\n",
       "      <td>2</td>\n",
       "      <td>1</td>\n",
       "      <td>4</td>\n",
       "      <td>1</td>\n",
       "    </tr>\n",
       "  </tbody>\n",
       "</table>\n",
       "</div>"
      ],
      "text/plain": [
       "  Commodity Code                             Commodity Name       Substance  \\\n",
       "0          111CA                                      Farms  carbon dioxide   \n",
       "1          111CA                                      Farms         methane   \n",
       "2          111CA                                      Farms   nitrous oxide   \n",
       "3          111CA                                      Farms      other GHGs   \n",
       "4          113FF  Forestry, fishing, and related activities  carbon dioxide   \n",
       "\n",
       "                                Unit  \\\n",
       "0       kg/2018 USD, purchaser price   \n",
       "1       kg/2018 USD, purchaser price   \n",
       "2       kg/2018 USD, purchaser price   \n",
       "3  kg CO2e/2018 USD, purchaser price   \n",
       "4       kg/2018 USD, purchaser price   \n",
       "\n",
       "   Supply Chain Emission Factors without Margins  \\\n",
       "0                                          0.467   \n",
       "1                                          0.025   \n",
       "2                                          0.002   \n",
       "3                                          0.004   \n",
       "4                                          0.199   \n",
       "\n",
       "   Margins of Supply Chain Emission Factors  \\\n",
       "0                                     0.046   \n",
       "1                                     0.000   \n",
       "2                                     0.000   \n",
       "3                                     0.000   \n",
       "4                                     0.024   \n",
       "\n",
       "   Supply Chain Emission Factors with Margins  Unnamed: 7  \\\n",
       "0                                       0.513         NaN   \n",
       "1                                       0.026         NaN   \n",
       "2                                       0.002         NaN   \n",
       "3                                       0.004         NaN   \n",
       "4                                       0.223         NaN   \n",
       "\n",
       "   DQ ReliabilityScore of Factors without Margins  \\\n",
       "0                                               4   \n",
       "1                                               3   \n",
       "2                                               4   \n",
       "3                                               4   \n",
       "4                                               4   \n",
       "\n",
       "   DQ TemporalCorrelation of Factors without Margins  \\\n",
       "0                                                  2   \n",
       "1                                                  2   \n",
       "2                                                  2   \n",
       "3                                                  2   \n",
       "4                                                  2   \n",
       "\n",
       "   DQ GeographicalCorrelation of Factors without Margins  \\\n",
       "0                                                  1       \n",
       "1                                                  1       \n",
       "2                                                  1       \n",
       "3                                                  1       \n",
       "4                                                  1       \n",
       "\n",
       "   DQ TechnologicalCorrelation of Factors without Margins  \\\n",
       "0                                                  4        \n",
       "1                                                  1        \n",
       "2                                                  4        \n",
       "3                                                  4        \n",
       "4                                                  4        \n",
       "\n",
       "   DQ DataCollection of Factors without Margins  \n",
       "0                                             1  \n",
       "1                                             1  \n",
       "2                                             1  \n",
       "3                                             1  \n",
       "4                                             1  "
      ]
     },
     "execution_count": 6,
     "metadata": {},
     "output_type": "execute_result"
    }
   ],
   "source": [
    "df = pd.read_excel(file_path, sheet_name='2016_Summary_Commodity')  # Replace with actual sheet name\n",
    "df.head()\n"
   ]
  },
  {
   "cell_type": "code",
   "execution_count": 7,
   "id": "de01f609",
   "metadata": {},
   "outputs": [
    {
     "name": "stdout",
     "output_type": "stream",
     "text": [
      "<class 'pandas.core.frame.DataFrame'>\n",
      "RangeIndex: 264 entries, 0 to 263\n",
      "Data columns (total 13 columns):\n",
      " #   Column                                                  Non-Null Count  Dtype  \n",
      "---  ------                                                  --------------  -----  \n",
      " 0   Commodity Code                                          264 non-null    object \n",
      " 1   Commodity Name                                          264 non-null    object \n",
      " 2   Substance                                               264 non-null    object \n",
      " 3   Unit                                                    264 non-null    object \n",
      " 4   Supply Chain Emission Factors without Margins           264 non-null    float64\n",
      " 5   Margins of Supply Chain Emission Factors                264 non-null    float64\n",
      " 6   Supply Chain Emission Factors with Margins              264 non-null    float64\n",
      " 7   Unnamed: 7                                              0 non-null      float64\n",
      " 8   DQ ReliabilityScore of Factors without Margins          264 non-null    int64  \n",
      " 9   DQ TemporalCorrelation of Factors without Margins       264 non-null    int64  \n",
      " 10  DQ GeographicalCorrelation of Factors without Margins   264 non-null    int64  \n",
      " 11  DQ TechnologicalCorrelation of Factors without Margins  264 non-null    int64  \n",
      " 12  DQ DataCollection of Factors without Margins            264 non-null    int64  \n",
      "dtypes: float64(4), int64(5), object(4)\n",
      "memory usage: 26.9+ KB\n"
     ]
    }
   ],
   "source": [
    "# View basic info\n",
    "df.info()\n",
    "\n",
    "# Drop completely empty rows/columns\n",
    "df.dropna(how='all', inplace=True)\n",
    "df.dropna(axis=1, how='all', inplace=True)\n",
    "\n",
    "# Rename columns (if names are messy or generic like 'Unnamed: 0')\n",
    "df.columns = [col.strip() for col in df.columns]  # remove leading/trailing whitespace\n"
   ]
  },
  {
   "cell_type": "code",
   "execution_count": 8,
   "id": "8eb18bad",
   "metadata": {},
   "outputs": [
    {
     "name": "stdout",
     "output_type": "stream",
     "text": [
      "Commodity Code                                            0\n",
      "Commodity Name                                            0\n",
      "Substance                                                 0\n",
      "Unit                                                      0\n",
      "Supply Chain Emission Factors without Margins             0\n",
      "Margins of Supply Chain Emission Factors                  0\n",
      "Supply Chain Emission Factors with Margins                0\n",
      "DQ ReliabilityScore of Factors without Margins            0\n",
      "DQ TemporalCorrelation of Factors without Margins         0\n",
      "DQ GeographicalCorrelation of Factors without Margins     0\n",
      "DQ TechnologicalCorrelation of Factors without Margins    0\n",
      "DQ DataCollection of Factors without Margins              0\n",
      "dtype: int64\n"
     ]
    }
   ],
   "source": [
    "# View missing data\n",
    "print(df.isnull().sum())\n",
    "\n",
    "# Fill missing values\n",
    "df.fillna(0, inplace=True)  # OR df.fillna(method='ffill', inplace=True)\n",
    "\n",
    "# Drop rows with missing values (if critical)\n",
    "# df.dropna(subset=['ImportantColumn'], inplace=True)\n"
   ]
  },
  {
   "cell_type": "code",
   "execution_count": 9,
   "id": "7760fb31",
   "metadata": {},
   "outputs": [
    {
     "name": "stdout",
     "output_type": "stream",
     "text": [
      "Commodity Name\n",
      "Utilities                      2.899\n",
      "Truck transportation           1.341\n",
      "Pipeline transportation        1.119\n",
      "Air transportation             0.875\n",
      "Petroleum and coal products    0.796\n",
      "Mining, except oil and gas     0.777\n",
      "Rail transportation            0.698\n",
      "Water transportation           0.694\n",
      "Oil and gas extraction         0.601\n",
      "Farms                          0.545\n",
      "Name: Supply Chain Emission Factors with Margins, dtype: float64\n"
     ]
    }
   ],
   "source": [
    "top_emitters = df.groupby('Commodity Name')['Supply Chain Emission Factors with Margins'].sum().sort_values(ascending=False).head(10)\n",
    "print(top_emitters)\n"
   ]
  },
  {
   "cell_type": "code",
   "execution_count": 10,
   "id": "1dd3d887",
   "metadata": {},
   "outputs": [
    {
     "name": "stdout",
     "output_type": "stream",
     "text": [
      "Substance\n",
      "carbon dioxide    0.313485\n",
      "other GHGs        0.007182\n",
      "methane           0.003697\n",
      "nitrous oxide     0.000045\n",
      "Name: Supply Chain Emission Factors with Margins, dtype: float64\n"
     ]
    }
   ],
   "source": [
    "substance_profile = df.groupby('Substance')['Supply Chain Emission Factors with Margins'].mean().sort_values(ascending=False)\n",
    "print(substance_profile)\n"
   ]
  },
  {
   "cell_type": "code",
   "execution_count": 11,
   "id": "5d9b8b3b",
   "metadata": {},
   "outputs": [
    {
     "name": "stdout",
     "output_type": "stream",
     "text": [
      "              Commodity Name       Substance  \\\n",
      "20                 Utilities  carbon dioxide   \n",
      "132     Truck transportation  carbon dioxide   \n",
      "140  Pipeline transportation  carbon dioxide   \n",
      "\n",
      "     Supply Chain Emission Factors with Margins  \n",
      "20                                        2.884  \n",
      "132                                       1.318  \n",
      "140                                       1.080  \n"
     ]
    }
   ],
   "source": [
    "high_emitters = df[df['Supply Chain Emission Factors with Margins'] > 1.0]\n",
    "print(high_emitters[['Commodity Name', 'Substance', 'Supply Chain Emission Factors with Margins']])\n"
   ]
  },
  {
   "cell_type": "code",
   "execution_count": 13,
   "id": "4caa1a3b",
   "metadata": {},
   "outputs": [
    {
     "name": "stderr",
     "output_type": "stream",
     "text": [
      "C:\\Users\\dshre\\AppData\\Local\\Temp\\ipykernel_9524\\3025069915.py:25: FutureWarning: \n",
      "\n",
      "Passing `palette` without assigning `hue` is deprecated and will be removed in v0.14.0. Assign the `y` variable to `hue` and set `legend=False` for the same effect.\n",
      "\n",
      "  sns.barplot(x=top_emitters.values, y=top_emitters.index, palette=\"magma\")\n"
     ]
    },
    {
     "data": {
      "image/png": "[encoded data removed]",
      "text/plain": [
       "<Figure size 1200x600 with 1 Axes>"
      ]
     },
     "metadata": {},
     "output_type": "display_data"
    }
   ],
   "source": [
    "import pandas as pd\n",
    "import matplotlib.pyplot as plt\n",
    "import seaborn as sns\n",
    "\n",
    "# Set visual style\n",
    "sns.set(style=\"whitegrid\")\n",
    "\n",
    "# Load Excel file\n",
    "file_path = \"SupplyChainEmissionFactorsforUSIndustriesCommodities.xlsx\"\n",
    "df = pd.read_excel(file_path, sheet_name=\"2016_Summary_Commodity\")\n",
    "\n",
    "# Clean column names (optional but good practice)\n",
    "df.columns = [col.strip() for col in df.columns]\n",
    "\n",
    "# Group by Commodity Name and sum the emission factors (including margins)\n",
    "top_emitters = (\n",
    "    df.groupby('Commodity Name')['Supply Chain Emission Factors with Margins']\n",
    "    .sum()\n",
    "    .sort_values(ascending=False)\n",
    "    .head(10)\n",
    ")\n",
    "\n",
    "# Plotting\n",
    "plt.figure(figsize=(12, 6))\n",
    "sns.barplot(x=top_emitters.values, y=top_emitters.index, palette=\"magma\")\n",
    "\n",
    "plt.xlabel(\"Total Emission Factors (with Margins)\")\n",
    "plt.ylabel(\"Commodity Name\")\n",
    "plt.title(\"Top 10 Emitting Commodities by Total Emission Factors (2016)\")\n",
    "plt.tight_layout()\n",
    "plt.show()\n"
   ]
  },
  {
   "cell_type": "code",
   "execution_count": null,
   "id": "b72ea453",
   "metadata": {},
   "outputs": [],
   "source": []
  }
 ],
 "metadata": {
  "kernelspec": {
   "display_name": "Python 3",
   "language": "python",
   "name": "python3"
  },
  "language_info": {
   "codemirror_mode": {
    "name": "ipython",
    "version": 3
   },
   "file_extension": ".py",
   "mimetype": "text/x-python",
   "name": "python",
   "nbconvert_exporter": "python",
   "pygments_lexer": "ipython3",
   "version": "3.13.3"
  }
 },
 "nbformat": 4,
 "nbformat_minor": 5
}
